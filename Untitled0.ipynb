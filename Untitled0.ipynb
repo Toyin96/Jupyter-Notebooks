{
  "nbformat": 4,
  "nbformat_minor": 0,
  "metadata": {
    "colab": {
      "name": "Untitled0.ipynb",
      "provenance": [],
      "authorship_tag": "ABX9TyMtO5Dcq+kB5+oPI7RirzAL",
      "include_colab_link": true
    },
    "kernelspec": {
      "name": "python3",
      "display_name": "Python 3"
    }
  },
  "cells": [
    {
      "cell_type": "markdown",
      "metadata": {
        "id": "view-in-github",
        "colab_type": "text"
      },
      "source": [
        "<a href=\"https://colab.research.google.com/github/Toyin96/Jupyter-Notebooks/blob/main/Untitled0.ipynb\" target=\"_parent\"><img src=\"https://colab.research.google.com/assets/colab-badge.svg\" alt=\"Open In Colab\"/></a>"
      ]
    },
    {
      "cell_type": "code",
      "metadata": {
        "colab": {
          "base_uri": "https://localhost:8080/"
        },
        "id": "FmBAeyEzIYth",
        "outputId": "6812acb4-1aad-41e6-c872-6f18c290e36a"
      },
      "source": [
        "my_week = [\"Sunday\", \"Monday\", \"Tuesday\", \"Wednesday\", \"Thursday\", \"Friday\", \"Saturday\"]\r\n",
        "\r\n",
        "\r\n",
        "def modify_week(week: []):\r\n",
        "  \"\"\"displaces the first element to the last position\"\"\"\r\n",
        "  week.append(week.pop(0))\r\n",
        "  return week\r\n",
        "  \r\n",
        "\r\n",
        "new_week = modify_week(my_week)\r\n",
        "print(new_week)  "
      ],
      "execution_count": 11,
      "outputs": [
        {
          "output_type": "stream",
          "text": [
            "['Monday', 'Tuesday', 'Wednesday', 'Thursday', 'Friday', 'Saturday', 'Sunday']\n"
          ],
          "name": "stdout"
        }
      ]
    },
    {
      "cell_type": "code",
      "metadata": {
        "id": "g0OEAt_EPF7C"
      },
      "source": [
        "def convert_to_dict(square, value):\r\n",
        "    new_dict = {}\r\n",
        "    for x, y in zip(square, value):\r\n",
        "        new_dict[x] = y**2\r\n",
        "    return new_dict    \r\n",
        "\r\n",
        "print(convert_to_dict(square, value))"
      ],
      "execution_count": null,
      "outputs": []
    },
    {
      "cell_type": "code",
      "metadata": {
        "colab": {
          "base_uri": "https://localhost:8080/"
        },
        "id": "KHmDI_MxYh3Q",
        "outputId": "809d241c-bf5f-4d98-d082-c134a3450f87"
      },
      "source": [
        "my_week = [\"Sunday\", \"Monday\", \"Tuesday\", \"Wednesday\", \"Thursday\", \"Friday\", \"Saturday\"]\r\n",
        "\r\n",
        "\r\n",
        "def convert_list_to_dict(arg: []) -> {}:\r\n",
        "  my_list = [\"sleep\", \"go to work\", \"fly abroad\", \"make money\", \"marry\", \"eat noodles\", \"rest at home\"]\r\n",
        "  my_dict = dict([(x, y) for x, y in zip(arg, my_list)])\r\n",
        "  return my_dict\r\n",
        "\r\n",
        "print(convert_list_to_dict(my_week))  \r\n"
      ],
      "execution_count": 39,
      "outputs": [
        {
          "output_type": "stream",
          "text": [
            "{'Sunday': 'sleep', 'Monday': 'go to work', 'Tuesday': 'fly abroad', 'Wednesday': 'make money', 'Thursday': 'marry', 'Friday': 'eat noodles', 'Saturday': 'rest at home'}\n"
          ],
          "name": "stdout"
        }
      ]
    }
  ]
}